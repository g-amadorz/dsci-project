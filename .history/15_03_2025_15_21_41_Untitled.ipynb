{
 "cells": [
  {
   "cell_type": "code",
   "execution_count": null,
   "id": "73b3d131-a84b-4bd5-b167-b17b5370313f",
   "metadata": {},
   "outputs": [],
   "source": [
    "### Run this cell before continuing. \n",
    "library(tidyverse)\n",
    "library(repr)\n",
    "library(tidymodels)\n",
    "options(repr.matrix.max.rows = 6)\n",
    "source(\"cleanup.R\")"
   ]
  },
  {
   "cell_type": "code",
   "execution_count": null,
   "id": "0ffc2b1a-b33d-479d-b36c-dd1e1c029b27",
   "metadata": {},
   "outputs": [],
   "source": [
    "url <- \"https://raw.githubusercontent.com/g-amadorz/dsci-project/refs/heads/main/data/players.csv\"\n",
    "\n",
    "read_csv(url)\n"
   ]
  },
  {
   "cell_type": "code",
   "execution_count": null,
   "id": "9e7e0d80-0f04-4e2c-ae2e-e3b789d8350f",
   "metadata": {},
   "outputs": [],
   "source": []
  }
 ],
 "metadata": {
  "kernelspec": {
   "display_name": "R",
   "language": "R",
   "name": "ir"
  },
  "language_info": {
   "codemirror_mode": "r",
   "file_extension": ".r",
   "mimetype": "text/x-r-source",
   "name": "R",
   "pygments_lexer": "r",
   "version": "4.3.3"
  }
 },
 "nbformat": 4,
 "nbformat_minor": 5
}
