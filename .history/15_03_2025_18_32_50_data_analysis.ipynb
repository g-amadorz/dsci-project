{
 "cells": [
  {
   "cell_type": "code",
   "execution_count": null,
   "id": "eebe4c6f-1468-4a49-9eee-70d3ac542e00",
   "metadata": {},
   "outputs": [],
   "source": [
    "### Run this cell before continuing. \n",
    "library(tidyverse)\n",
    "library(repr)\n",
    "library(tidymodels)\n",
    "options(repr.matrix.max.rows = 6)\n",
    "source(\"cleanup.R\")"
   ]
  },
  {
   "cell_type": "markdown",
   "id": "ee59180c-c8aa-4ab9-9b07-1dff996b03f8",
   "metadata": {},
   "source": [
    "# Predicting Newsletter Subscription Based on Player Experience and Playtime\n",
    "\n",
    "---\n",
    "\n",
    "## General Overview\n",
    "- **Number of Observations (Rows):** 400\n",
    "- **Number of Variables (Columns):** 7\n",
    "\n",
    "---\n",
    "\n",
    "## Potential Issues\n",
    "- Missing values in some columns (e.g., `Age` and `played_hours`).\n",
    "- Some columns such as `hashedEmail` and  `Name` may not be useful for analysis due to their hashed nature.\n",
    "- Possible outliers in `played_hours` (e.g., values like 218.1 and 223.1).\n",
    "\n",
    "---\n",
    "\n",
    "## Variables Summary\n",
    "\n",
    "| **Variable Name** | **Data Type** | **Description**                                                                 | **Potential Issues**                                                                 |\n",
    "|--------------------|---------------|---------------------------------------------------------------------------------|-------------------------------------------------------------------------------------|\n",
    "| **experience**     | Categorical   | Player's experience level (\"Beginner,\" \"Amateur,\" \"Regular,\" \"Veteran,\" \"Pro\"). | No major issues.                                                                    |\n",
    "| **subscribe**      | Boolean       | Indicates whether the player has subscribed (TRUE or FALSE).                    | No major issues.                                                                    |\n",
    "| **hashedEmail**    | String        | Hashed email address of the player.                                             | Not useful for analysis.                                                            |\n",
    "| **played_hours**   | Numeric       | Total hours played by the player.                                               | Missing values. |\n",
    "| **name**           | String        | Name of the player.                                                             | Not useful for analysis.                                       |\n",
    "| **gender**         | Categorical   | Gender of the player (e.g., \"Male,\" \"Female,\" \"Non-binary,\" \"Prefer not to say\").| Inconsistent categories (e.g., \"Two-Spirited,\" \"Agender\"). May need standardization.|\n",
    "| **Age**            | Numeric       | Age of the player.                                                              | Some unrealistic values (e.g., 9, 49, 50). Missing values.                          |\n",
    "\n",
    "---\n",
    "\n",
    "## Key Insights\n",
    "\n",
    "### Demographics:\n",
    "- The majority of players are male (70%), with a small percentage identifying as non-binary, agender, or preferring not to say.\n",
    "\n",
    "### Gaming Behavior:\n",
    "- Most players have played very few hours (median = 0.1), but there are extreme outliers (e.g., 223.1 hours).\n",
    "- The most common experience level is \"Amateur,\" followed by \"Veteran\" and \"Regular.\"\n",
    "\n",
    "### Subscription Status:\n",
    "- Approximately 75% of players are subscribed, indicating a high subscription rate.\n",
    "\n",
    "---\n",
    "\n",
    "## Potential Issues\n",
    "\n",
    "### Data Quality:\n",
    "- Missing values in `Age` and `played_hours`.\n",
    "- Outliers in `played_hours` and `Age` that may need to be addressed.\n",
    "- Inconsistent gender categories that may require standardization.\n",
    "\n",
    "### Data Collection:\n",
    "- The dataset may suffer from self-reporting bias (e.g., players may misreport their age or hours played).\n",
    "- The hashed email column (`hashedEmail`) is not useful for analysis and could be removed.\n",
    "- The `name` column is also not useful for analysis and could be removed.\n",
    "\n",
    "### Ethical Concerns:\n",
    "- The dataset includes sensitive information (e.g., gender, age), which should be handled carefully to ensure privacy.\n",
    "\n",
    "---\n"
   ]
  },
  {
   "cell_type": "markdown",
   "id": "000a71a8-d89f-4272-9de7-3df913830006",
   "metadata": {},
   "source": [
    "## Predicting Newsletter Subscription Based on Player Experience and Playtime**\n",
    "\n",
    "### **Broad Question:**  \n",
    "What player characteristics and behaviours are most predictive of subscribing to a newsletter, and how do these features differ between various player types?\n",
    "\n",
    "### **Specific Question:**  \n",
    "Can a player’s **experience level** and **total played hours** predict whether they will subscribe to the **newsletter** in the `players.csv` dataset?\n",
    "\n",
    "### **Response and Explanatory Variables:**  \n",
    "- **Response Variable (Outcome):** `subscribe` (Boolean: True/False) – Whether a player subscribes to the newsletter.\n",
    "- **Explanatory Variables (Predictors):**\n",
    "  - `experience` (Categorical: Pro, Veteran, Amateur, Regular) – The skill level or familiarity of the player.\n",
    "  - `played_hours` (Numeric) – The total number of hours a player has spent in the game.\n",
    "\n",
    "### **Data Preparation & Wrangling:**  \n",
    "To ensure the data is in a usable form for predictive modeling, the following preprocessing steps will be applied:\n",
    "1. **Data Cleaning:**\n",
    "   - Remove unnecessary columns such as the (`hashedEmail`, `name`) as they do not contribute to prediction.\n",
    "   - Handle missing values, specifically filling in missing (`Age`, `played_hours`)  values with the median or mean.\n",
    "   - Standardize categorical variables (`experience`).\n",
    "\n",
    "2. **Feature Selection:**\n",
    "   - Keep only relevant columns (`subscribe`, `experience`, `played_hours`).\n",
    "   \n",
    "3. **Transformations & Encoding:**\n",
    "   - Convert `experience` into a factor variable to use it as a categorical predictor.\n",
    "   - Ensure `subscribe` is treated as a binary outcome variable.\n",
    "   \n",
    "4. **Exploratory Analysis:**\n",
    "   - Compute mean played hours for each experience level and visualize trends.\n",
    "   - Examine the proportion of subscribers within each experience group.\n",
    "   - Use visualizations (histograms, bar charts, scatter plots) to check for patterns between playtime, experience, and subscription likelihood.\n",
    "\n",
    "### **How the Data Will Address the Question:**  \n",
    "By analyzing trends in `experience` and `played_hours`, we can determine whether certain player types are more likely to subscribe.\n",
    "\n",
    "### **Next Steps:**\n",
    "- Perform descriptive statistics and visualizations to confirm assumptions and.\n",
    "- Identify any necessary data transformations before predictive modeling.\n",
    "- Choose and implement an appropriate classification model for prediction.\n"
   ]
  },
  {
   "cell_type": "markdown",
   "id": "68554548-1d65-4f4e-a1aa-1a7a8e1a4449",
   "metadata": {},
   "source": [
    "## Exploring Subscription Rates Through Visual Analysis\n",
    "\n",
    "\n",
    "Here are several plots to explore the dataset of (players.csv) and its variables. Along with an exploration to find the best predictive variables for newsletter subscription rates (`subscribe`). Here's an explanation of each plot:\n",
    "\n",
    "---"
   ]
  },
  {
   "cell_type": "code",
   "execution_count": null,
   "id": "0ffc2b1a-b33d-479d-b36c-dd1e1c029b27",
   "metadata": {},
   "outputs": [],
   "source": [
    "url <- \"https://raw.githubusercontent.com/g-amadorz/dsci-project/refs/heads/main/data/players.csv\"\n",
    "\n",
    "data <- read_csv(url)"
   ]
  },
  {
   "cell_type": "markdown",
   "id": "29291ed1-58bb-497f-830c-e34d05e74ef6",
   "metadata": {},
   "source": [
    "## Mean Subscription Rates by Categorical Variables\n",
    "\n",
    "To understand how different player characteristics influence newsletter subscription rates, we first must find the mean of the quantiative variables in the dataset. The mean age of a player in this data set is 21 and the played hours is 6."
   ]
  },
  {
   "cell_type": "code",
   "execution_count": null,
   "id": "08bc7c48-0279-4332-89ef-1e72db0350a0",
   "metadata": {},
   "outputs": [],
   "source": [
    "mean_values <- data |>\n",
    "  summarize(\n",
    "    mean_age = mean(Age, na.rm = TRUE),\n",
    "    mean_played_hours = mean(played_hours, na.rm = TRUE)\n",
    "  )\n",
    "\n",
    "median_values <- data |>\n",
    "  summarize(\n",
    "    median_age = median(Age, na.rm = TRUE),\n",
    "    median_played_hours = median(played_hours, na.rm = TRUE)\n",
    "  )\n",
    "mean_values\n",
    "median_values"
   ]
  },
  {
   "cell_type": "markdown",
   "id": "38471089-f7b9-418c-a164-8d3642c8150b",
   "metadata": {},
   "source": [
    "## Mean and Median Values of the Quantitative Variables of Age and Played Hours\n",
    "\n",
    "The table below shows the mean values for `Age` and `played_hours` in the dataset:\n",
    "\n",
    "| **Variable**       | **Mean Value**   |\n",
    "|--------------------|------------------|\n",
    "| **Age**            | 20.52            |\n",
    "| **Played Hours**   | 5.85            |\n",
    "\n",
    "| **Variable**       | **Median Value**   |\n",
    "|--------------------|------------------|\n",
    "| **Age**            | 19               |\n",
    "| **Played Hours**   | 0.1              |\n",
    "\n",
    "---\n",
    "\n",
    "### **Explanation**\n",
    "- **Mean Age:** The average age of players in the dataset is approximately **20.52 years**.\n",
    "- **Mean Played Hours:** The average number of hours played by players is approximately **5.85 hours**.\n",
    "\n",
    "- **Median Age:** The average age of players in the dataset is approximately **19 years**.\n",
    "- **Mean Played Hours:** The average number of hours played by players is approximately **0.1 hours**.\n",
    "\n",
    "---\n",
    "\n",
    "### **Insights**\n",
    "- Players in the dataset are relatively young, with an average age of around 20 years.\n",
    "- The average playtime is very low with many players not registering even an hour."
   ]
  },
  {
   "cell_type": "markdown",
   "id": "50072b5b-074c-422f-a346-fa2d75f8a242",
   "metadata": {},
   "source": [
    "## Plot 1: Subscription Rate by Experience Level\n",
    "\n",
    "To understand how player experience levels influence newsletter subscription rates, I created a bar plot showing the proportion of players who subscribed (`subscribe = TRUE`) for each experience level.\n",
    "\n",
    "---"
   ]
  },
  {
   "cell_type": "code",
   "execution_count": null,
   "id": "9e7e0d80-0f04-4e2c-ae2e-e3b789d8350f",
   "metadata": {},
   "outputs": [],
   "source": [
    "experience <- data |>\n",
    "  group_by(experience, subscribe) |>\n",
    "  summarize(count = n()) |>\n",
    "  mutate(proportion = count / sum(count)) |>\n",
    "  filter(subscribe == TRUE)\n",
    "\n",
    "experience_plot <- experience |>\n",
    "  ggplot(aes(x = experience, y = proportion, fill = experience)) +\n",
    "  geom_bar(stat = \"identity\") +\n",
    "  labs(title = \"Subscription Rate by Experience Level\",\n",
    "       x = \"Experience Level\",\n",
    "       y = \"Proportion Subscribed\")\n",
    "\n",
    "experience_plot"
   ]
  },
  {
   "cell_type": "markdown",
   "id": "16dc5465-17f9-4bc4-9b4d-730a6953c5b6",
   "metadata": {},
   "source": [
    "## Conclusion\n",
    "\n",
    "\n",
    "The plot reveals a clear trend: as player experience increases, so does the likelihood of subscribing to the newsletter.\n",
    "\n",
    "---"
   ]
  },
  {
   "cell_type": "markdown",
   "id": "9158ea2a-7290-49a7-b31e-0fcce13a7f0f",
   "metadata": {},
   "source": [
    "## Plot 2: Subscription Rate by Gender\n",
    "To understand how player gender could influence newsletter subscription rates, I created a bar plot showing the proportion of players who subscribed (`subscribe = TRUE`) for each gender.\n",
    "\n",
    "---"
   ]
  },
  {
   "cell_type": "code",
   "execution_count": null,
   "id": "8deb778d-cece-4971-bd00-51d10a3538dd",
   "metadata": {},
   "outputs": [],
   "source": [
    "gender <- data |>\n",
    "  group_by(gender, subscribe) |>\n",
    "  summarize(count = n()) |>\n",
    "  mutate(proportion = count / sum(count)) |>\n",
    "  filter(subscribe == TRUE)\n",
    "\n",
    "gender_plot <- gender |> ggplot(aes(x = gender, y = proportion, fill = gender)) +\n",
    "      geom_bar(stat = \"identity\") +\n",
    "      labs(title = \"Subscription Rate by Gender\",\n",
    "           x = \"Gender\",\n",
    "           y = \"Proportion Subscribed\")\n",
    "\n",
    "gender_plot"
   ]
  },
  {
   "cell_type": "markdown",
   "id": "089c976f-dfd8-4e9f-b792-6373f8fa66d0",
   "metadata": {},
   "source": [
    "## Conclusion\n",
    "\n",
    "\n",
    "The plot does not really conclude anything just the fact that around 75% of the playerbase is subscribed. So gender alone will likely not be a good predictive variable for newsletter subscription due to the sample size of some genders.\n",
    "\n",
    "\n",
    "---"
   ]
  },
  {
   "cell_type": "markdown",
   "id": "02864ca7-d0f1-478e-b84c-314ff2fb98f5",
   "metadata": {},
   "source": [
    "## Plot 3: Subscription Rate by Played Hours\n",
    "To understand how player gender could influence newsletter subscription rates, I created a bar plot showing the proportion of players who subscribed (`subscribe = TRUE`) for each gender.\n",
    "\n",
    "---"
   ]
  },
  {
   "cell_type": "code",
   "execution_count": null,
   "id": "615f4153-8203-41f3-914e-15b2eb4ac607",
   "metadata": {},
   "outputs": [],
   "source": [
    "data_scaled <- data |>\n",
    "  mutate(played_hours = played_hours * 100)\n",
    "\n",
    "played_hours_plot <- data_scaled |>\n",
    "  ggplot(aes(x = played_hours, fill = subscribe)) +\n",
    "  geom_density(alpha = 0.5) +\n",
    "  labs(title = \"Density of Played Hours by Subscription Status\",\n",
    "       x = \"Played Hours\",\n",
    "       y = \"Density\")\n",
    "\n",
    "played_hours_plot"
   ]
  },
  {
   "cell_type": "markdown",
   "id": "a49eabac-f467-43e5-8220-298f34db494d",
   "metadata": {},
   "source": [
    "## Conclusion\n",
    "\n",
    "The density plot reveals that players who spend more hours playing are more likely to subscribe to the newsletter. This insight can be used to target highly engaged players for subscription campaigns or to design strategies to increase engagement among players with lower playtimes."
   ]
  },
  {
   "cell_type": "code",
   "execution_count": null,
   "id": "624824b9-3273-4a9a-856c-3f9dd08d08d7",
   "metadata": {},
   "outputs": [],
   "source": []
  }
 ],
 "metadata": {
  "kernelspec": {
   "display_name": "R",
   "language": "R",
   "name": "ir"
  },
  "language_info": {
   "codemirror_mode": "r",
   "file_extension": ".r",
   "mimetype": "text/x-r-source",
   "name": "R",
   "pygments_lexer": "r",
   "version": "4.3.3"
  }
 },
 "nbformat": 4,
 "nbformat_minor": 5
}
