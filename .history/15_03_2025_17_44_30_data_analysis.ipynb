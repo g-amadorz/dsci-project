{
 "cells": [
  {
   "cell_type": "code",
   "execution_count": null,
   "id": "eebe4c6f-1468-4a49-9eee-70d3ac542e00",
   "metadata": {},
   "outputs": [],
   "source": [
    "### Run this cell before continuing. \n",
    "library(tidyverse)\n",
    "library(repr)\n",
    "library(tidymodels)\n",
    "options(repr.matrix.max.rows = 6)\n",
    "source(\"cleanup.R\")"
   ]
  },
  {
   "cell_type": "markdown",
   "id": "000a71a8-d89f-4272-9de7-3df913830006",
   "metadata": {},
   "source": [
    "**Predicting Newsletter Subscription Based on Player Experience and Playtime**\n",
    "\n",
    "### **Broad Question:**  \n",
    "What player characteristics and behaviours are most predictive of subscribing to a newsletter, and how do these features differ between various player types?\n",
    "\n",
    "### **Specific Question:**  \n",
    "Can a player’s **experience level** and **total played hours** predict whether they will subscribe to the **newsletter** in the `players.csv` dataset?\n",
    "\n",
    "### **Response and Explanatory Variables:**  \n",
    "- **Response Variable (Outcome):** `subscribe` (Boolean: True/False) – Whether a player subscribes to the newsletter.\n",
    "- **Explanatory Variables (Predictors):**\n",
    "  - `experience` (Categorical: Pro, Veteran, Amateur, Regular) – The skill level or familiarity of the player.\n",
    "  - `played_hours` (Numeric) – The total number of hours a player has spent in the game.\n",
    "\n",
    "### **Data Preparation & Wrangling:**  \n",
    "To ensure the data is in a usable form for predictive modeling, the following preprocessing steps will be applied:\n",
    "1. **Data Cleaning:**\n",
    "   - Remove unnecessary columns such as the (`hashedEmail`, `name`) as they do not contribute to prediction.\n",
    "   - Handle missing values, specifically filling in missing (`Age`, `played_hours`)  values with the median or mean.\n",
    "   - Standardize categorical variables (`experience`).\n",
    "\n",
    "2. **Feature Selection:**\n",
    "   - Keep only relevant columns (`subscribe`, `experience`, `played_hours`).\n",
    "   \n",
    "3. **Transformations & Encoding:**\n",
    "   - Convert `experience` into a factor variable to use it as a categorical predictor.\n",
    "   - Ensure `subscribe` is treated as a binary outcome variable.\n",
    "   \n",
    "4. **Exploratory Analysis:**\n",
    "   - Compute mean played hours for each experience level and visualize trends.\n",
    "   - Examine the proportion of subscribers within each experience group.\n",
    "   - Use visualizations (histograms, bar charts, scatter plots) to check for patterns between playtime, experience, and subscription likelihood.\n",
    "\n",
    "### **How the Data Will Address the Question:**  \n",
    "By analyzing trends in `experience` and `played_hours`, we can determine whether certain player types are more likely to subscribe.\n",
    "\n",
    "### **Next Steps:**\n",
    "- Perform descriptive statistics and visualizations to confirm assumptions and.\n",
    "- Identify any necessary data transformations before predictive modeling.\n",
    "- Choose and implement an appropriate classification model for prediction.\n"
   ]
  },
  {
   "cell_type": "markdown",
   "id": "68554548-1d65-4f4e-a1aa-1a7a8e1a4449",
   "metadata": {},
   "source": [
    "## Exploring Subscription Rates Through Visual Analysis\n",
    "\n",
    "\n",
    "Here are several plots to explore the dataset of (players.csv) and its variables. Along with an exploration to find the best predictive variables for newsletter subscription rates (`subscribe`). Here's an explanation of each plot:\n",
    "\n",
    "---"
   ]
  },
  {
   "cell_type": "code",
   "execution_count": null,
   "id": "0ffc2b1a-b33d-479d-b36c-dd1e1c029b27",
   "metadata": {},
   "outputs": [],
   "source": [
    "url <- \"https://raw.githubusercontent.com/g-amadorz/dsci-project/refs/heads/main/data/players.csv\"\n",
    "\n",
    "data <- read_csv(url)"
   ]
  },
  {
   "cell_type": "markdown",
   "id": "29291ed1-58bb-497f-830c-e34d05e74ef6",
   "metadata": {},
   "source": [
    "## Mean Subscription Rates by Categorical Variables\n",
    "\n",
    "To understand how different player characteristics influence newsletter subscription rates, we first must find the mean of the quantiative variables in the dataset. The mean age of a player in this data set is 21 and the played hours is 6."
   ]
  },
  {
   "cell_type": "code",
   "execution_count": null,
   "id": "08bc7c48-0279-4332-89ef-1e72db0350a0",
   "metadata": {},
   "outputs": [],
   "source": [
    "mean_values <- data |>\n",
    "  summarize(\n",
    "    mean_age = mean(Age, na.rm = TRUE),\n",
    "    mean_played_hours = mean(played_hours, na.rm = TRUE)\n",
    "  )\n",
    "mean_values"
   ]
  },
  {
   "cell_type": "markdown",
   "id": "50072b5b-074c-422f-a346-fa2d75f8a242",
   "metadata": {},
   "source": [
    "## Plot 1: Subscription Rate by Experience Level\n",
    "\n",
    "To understand how player experience levels influence newsletter subscription rates, I created a bar plot showing the proportion of players who subscribed (`subscribe = TRUE`) for each experience level.\n",
    "\n",
    "---"
   ]
  },
  {
   "cell_type": "code",
   "execution_count": null,
   "id": "9e7e0d80-0f04-4e2c-ae2e-e3b789d8350f",
   "metadata": {},
   "outputs": [],
   "source": [
    "experience <- data |>\n",
    "  group_by(experience, subscribe) |>\n",
    "  summarize(count = n()) |>\n",
    "  mutate(proportion = count / sum(count)) |>\n",
    "  filter(subscribe == TRUE)\n",
    "\n",
    "experience_plot <- experience |>\n",
    "  ggplot(aes(x = experience, y = proportion, fill = experience)) +\n",
    "  geom_bar(stat = \"identity\") +\n",
    "  labs(title = \"Subscription Rate by Experience Level\",\n",
    "       x = \"Experience Level\",\n",
    "       y = \"Proportion Subscribed\")\n",
    "\n",
    "experience_plot"
   ]
  },
  {
   "cell_type": "markdown",
   "id": "16dc5465-17f9-4bc4-9b4d-730a6953c5b6",
   "metadata": {},
   "source": [
    "## Conclusion\n",
    "\n",
    "\n",
    "The plot reveals a clear trend: as player experience increases, so does the likelihood of subscribing to the newsletter.\n",
    "\n",
    "---"
   ]
  },
  {
   "cell_type": "markdown",
   "id": "9158ea2a-7290-49a7-b31e-0fcce13a7f0f",
   "metadata": {},
   "source": [
    "## Plot 2: Subscription Rate by Gender\n",
    "To understand how player gender could influence newsletter subscription rates, I created a bar plot showing the proportion of players who subscribed (`subscribe = TRUE`) for gender.\n",
    "\n",
    "---"
   ]
  },
  {
   "cell_type": "code",
   "execution_count": null,
   "id": "8deb778d-cece-4971-bd00-51d10a3538dd",
   "metadata": {},
   "outputs": [],
   "source": [
    "gender <- data |>\n",
    "  group_by(gender, subscribe) |>\n",
    "  summarize(count = n()) |>\n",
    "  mutate(proportion = count / sum(count)) |>\n",
    "  filter(subscribe == TRUE)\n",
    "\n",
    "gender_plot <- gender |> ggplot(aes(x = gender, y = proportion, fill = gender)) +\n",
    "      geom_bar(stat = \"identity\") +\n",
    "      labs(title = \"Subscription Rate by Gender\",\n",
    "           x = \"Gender\",\n",
    "           y = \"Proportion Subscribed\")\n",
    "\n",
    "gender_plot"
   ]
  },
  {
   "cell_type": "markdown",
   "id": "089c976f-dfd8-4e9f-b792-6373f8fa66d0",
   "metadata": {},
   "source": [
    "## Conclusion\n",
    "\n",
    "\n",
    "The plot does not really conclude anything just the fact that around 75% of the playerbase is subscribed.\n",
    "\n",
    "---"
   ]
  },
  {
   "cell_type": "code",
   "execution_count": null,
   "id": "5113a3bc-5e1e-4db5-92b0-b5215b38cfc7",
   "metadata": {},
   "outputs": [],
   "source": []
  }
 ],
 "metadata": {
  "kernelspec": {
   "display_name": "R",
   "language": "R",
   "name": "ir"
  },
  "language_info": {
   "codemirror_mode": "r",
   "file_extension": ".r",
   "mimetype": "text/x-r-source",
   "name": "R",
   "pygments_lexer": "r",
   "version": "4.3.3"
  }
 },
 "nbformat": 4,
 "nbformat_minor": 5
}
