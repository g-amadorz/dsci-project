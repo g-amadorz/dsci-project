{
 "cells": [
  {
   "cell_type": "markdown",
   "id": "b0c57981-580e-4d9d-b5be-91f4510b664a",
   "metadata": {},
   "source": [
    "# Predicting Newsletter Subscription Based on Player Age and Playtime\n",
    "\n",
    "---\n",
    "\n",
    "## General Overview\n",
    "- **Number of Observations (Rows):** 400\n",
    "- **Number of Variables (Columns):** 7\n",
    "\n",
    "---\n",
    "\n",
    "## Potential Issues\n",
    "- Missing values in some columns (e.g., `Age` and `played_hours`).\n",
    "- Some columns such as `hashedEmail` and  `Name` may not be useful for analysis due to their hashed nature.\n",
    "- Possible outliers in `played_hours` (e.g., values like 218.1 and 223.1).\n",
    "\n",
    "---\n",
    "\n",
    "## Variables Summary\n",
    "\n",
    "| **Variable Name** | **Data Type** | **Description**                                                                 | **Potential Issues**                                                                 |\n",
    "|--------------------|---------------|---------------------------------------------------------------------------------|-------------------------------------------------------------------------------------|\n",
    "| **experience**     | Categorical   | Player's experience level (\"Beginner,\" \"Amateur,\" \"Regular,\" \"Veteran,\" \"Pro\"). | No major issues.                                                                    |\n",
    "| **subscribe**      | Boolean       | Indicates whether the player has subscribed (TRUE or FALSE).                    | No major issues.                                                                    |\n",
    "| **hashedEmail**    | String        | Hashed email address of the player.                                             | Not useful for analysis.                                                            |\n",
    "| **played_hours**   | Numeric       | Total hours played by the player.                                               | Missing values. |\n",
    "| **name**           | String        | Name of the player.                                                             | Not useful for analysis.                                       |\n",
    "| **gender**         | Categorical   | Gender of the player (e.g., \"Male,\" \"Female,\" \"Non-binary,\" \"Prefer not to say\").| Inconsistent categories (e.g., \"Two-Spirited,\" \"Agender\"). May need standardization.|\n",
    "| **Age**            | Numeric       | Age of the player.                                                              | Some unrealistic values (e.g., 9, 49, 50). Missing values.                          |\n",
    "\n",
    "---\n",
    "\n",
    "## Key Insights\n",
    "\n",
    "### Demographics:\n",
    "- The majority of players are male (70%), with a small percentage identifying as non-binary, agender, or preferring not to say.\n",
    "\n",
    "### Gaming Behavior:\n",
    "- Most players have played very few hours (median = 0.1), but there are extreme outliers (e.g., 223.1 hours).\n",
    "- The most common experience level is \"Amateur,\" followed by \"Veteran\" and \"Regular.\"\n",
    "\n",
    "### Subscription Status:\n",
    "- Approximately 75% of players are subscribed, indicating a high subscription rate.\n",
    "\n",
    "---\n",
    "\n",
    "## Potential Issues\n",
    "\n",
    "### Data Quality:\n",
    "- Missing values in `Age` and `played_hours`.\n",
    "- Outliers in `played_hours` and `Age` that may need to be addressed.\n",
    "- Inconsistent gender categories that may require standardization.\n",
    "\n",
    "### Data Collection:\n",
    "- The dataset may suffer from self-reporting bias (e.g., players may misreport their age or hours played).\n",
    "- The hashed email column (`hashedEmail`) is not useful for analysis and could be removed.\n",
    "- The `name` column is also not useful for analysis and could be removed.\n",
    "\n",
    "### Ethical Concerns:\n",
    "- The dataset includes sensitive information (e.g., gender, age), which should be handled carefully to ensure privacy.\n",
    "\n",
    "### Summary:\n",
    "- This report will examine data from collected from a UBC led Minecraft server. The data gathered includes variables such as the amount of hours played on the server, age of the player, gender, experience, email and name. This report will pose the following question: Can age and hours played act as predictor for whether a player will subscribe to the newsletter. The dataset used to answer this question was players.csv which contains info on whether the player subscribes to the newsletter the name of the players as well as their gender and age, in addition this dataset contained the amount of hours played and the experience level of the players. Of these variables the only ones used for this examination was the hours played the age and whether the player subcribes or not. \n",
    "\n",
    "---\n"
   ]
  },
  {
   "cell_type": "code",
   "execution_count": null,
   "id": "9f0d160b-d2ce-4df6-aa33-b271dc0afd5b",
   "metadata": {},
   "outputs": [],
   "source": [
    "library(tidyverse)\n",
    "library(repr)\n",
    "library(tidymodels)\n",
    "options(repr.matrix.max.rows = 6)"
   ]
  },
  {
   "cell_type": "code",
   "execution_count": null,
   "id": "cf83c1c3-f656-44a1-89f8-5c5ee640a1b5",
   "metadata": {},
   "outputs": [],
   "source": [
    "url <- \"https://raw.githubusercontent.com/g-amadorz/dsci-project/refs/heads/main/data/players.csv\"\n",
    "\n",
    "players <- read_csv(url)"
   ]
  },
  {
   "cell_type": "code",
   "execution_count": null,
   "id": "c7f9c79e-07b6-4fd8-8d69-782cd63b1cac",
   "metadata": {},
   "outputs": [],
   "source": [
    "players"
   ]
  },
  {
   "cell_type": "code",
   "execution_count": null,
   "id": "a7851696-7991-4117-bd1c-6f7a24557277",
   "metadata": {},
   "outputs": [],
   "source": [
    "players_clean <- players |>\n",
    "    mutate(age = Age, subscribe = as.factor(subscribe)) |>\n",
    "    select(age, played_hours, subscribe) |>\n",
    "    drop_na()\n",
    "\n",
    "glimpse(players_clean)\n"
   ]
  },
  {
   "cell_type": "code",
   "execution_count": null,
   "id": "2cae09a6-8376-4a1f-aa1b-50476893ed7b",
   "metadata": {},
   "outputs": [],
   "source": [
    "hours_played_hist <- players_clean |>\n",
    "    ggplot(aes(x = played_hours, fill = subscribe)) +\n",
    "    geom_histogram() +\n",
    "    scale_x_log10() +\n",
    "    facet_grid(rows=vars(subscribe)) +\n",
    "    labs(x = \"Played Hours\", fill = \"Subscribed to Newsletter\", y = \"Count\") +\n",
    "    theme(text = element_text(size = 14))\n",
    "\n",
    "hours_played_hist\n",
    "    "
   ]
  },
  {
   "cell_type": "code",
   "execution_count": null,
   "id": "fa940f21-29ca-486b-bbc8-b930478b6a31",
   "metadata": {},
   "outputs": [],
   "source": [
    "hours_played_density_plot <- players_clean |>\n",
    "  ggplot(aes(x = played_hours, fill = subscribe)) +\n",
    "  geom_density(alpha = 0.5) +\n",
    "    scale_x_log10() +\n",
    "  labs(title = \"Density of Played Hours by Subscription Status\",\n",
    "       x = \"Played Hours\",\n",
    "       y = \"Density\") +\n",
    "    theme(text = element_text(size = 14))\n",
    "\n",
    "hours_played_density_plot"
   ]
  },
  {
   "cell_type": "code",
   "execution_count": null,
   "id": "00f72d59-596c-44a1-a455-cbccbe8d8899",
   "metadata": {},
   "outputs": [],
   "source": [
    "age_hist <- players_clean |>\n",
    "    ggplot(aes(x = age, fill = subscribe)) +\n",
    "    geom_histogram() +\n",
    "    facet_grid(rows=vars(subscribe)) +\n",
    "    labs(x = \"Age of Player\", fill = \"Subscribed to Newsletter\", y = \"Count\") +\n",
    "    theme(text = element_text(size = 14))\n",
    "\n",
    "age_hist"
   ]
  },
  {
   "cell_type": "code",
   "execution_count": null,
   "id": "91802f73-7ab5-4b37-958c-1e3c64e2ae63",
   "metadata": {},
   "outputs": [],
   "source": [
    "age_density_plot <- players_clean |>\n",
    "  ggplot(aes(x = age, fill = subscribe)) +\n",
    "  geom_density(alpha = 0.5) +\n",
    "  labs(title = \"Density of Age by Subscription Status\",\n",
    "       x = \"Age\",\n",
    "       y = \"Density\") +\n",
    "    theme(text = element_text(size = 14))\n",
    "\n",
    "age_density_plot"
   ]
  },
  {
   "cell_type": "code",
   "execution_count": null,
   "id": "2383347e-e990-432b-875d-3038ff8bbae4",
   "metadata": {},
   "outputs": [],
   "source": [
    "age_hours_scatter_plot <- players_clean |>\n",
    "    ggplot(aes(x = played_hours, y = age, color = subscribe)) +\n",
    "    geom_point(alpha=0.5) +\n",
    "    scale_x_log10()+\n",
    "    labs(x = \"Hours played\", \n",
    "         y = \"Age Of Player\", \n",
    "         color = \"Subscribed?\") +\n",
    "            scale_color_manual(values = c(\"darkorange\", \"steelblue\")) +\n",
    "            ggtitle(\"Scatter Plot for Age and Hours Played, with Subscribed\") + \n",
    "            theme(text = element_text(size = 14))\n",
    "\n",
    "age_hours_scatter_plot"
   ]
  },
  {
   "cell_type": "markdown",
   "id": "ea0c5788-7d01-4a6b-94d3-93f36b58d1f6",
   "metadata": {},
   "source": [
    "**KNN Cross Validation**"
   ]
  },
  {
   "cell_type": "code",
   "execution_count": null,
   "id": "ce579c05-a03e-4e82-ba14-1941ff63785c",
   "metadata": {},
   "outputs": [],
   "source": [
    "player_split <- initial_split(players_clean, prop = 0.75, strata = subscribe)\n",
    "player_train <- training(player_split)\n",
    "player_test <- testing(player_split)\n",
    "\n",
    "player_spec <- nearest_neighbor(weight_func = \"rectangular\", neighbors = tune()) |>\n",
    "  set_engine(\"kknn\") |>\n",
    "  set_mode(\"classification\")\n",
    "\n",
    "\n",
    "player_recipe <- recipe(subscribe ~ age + played_hours, data = player_train) |>\n",
    "  step_scale(all_predictors()) |>\n",
    "  step_center(all_predictors())\n",
    "\n"
   ]
  },
  {
   "cell_type": "code",
   "execution_count": null,
   "id": "ce698483-5085-4f82-b12e-f59301ccd749",
   "metadata": {},
   "outputs": [],
   "source": [
    "set.seed(123)\n",
    "\n",
    "players_vfold <- vfold_cv(player_train, v = 5, strata = subscribe)\n",
    "\n",
    "knn_results <- workflow() |>\n",
    "                 add_recipe(player_recipe) |>\n",
    "                 add_model(player_spec) |>\n",
    "                 tune_grid(resamples = players_vfold, grid = tibble(neighbors = c(2,3,4,5,6))) |>\n",
    "                 collect_metrics()\n",
    "\n",
    "accuracies <- knn_results |>\n",
    "                 filter(.metric == 'accuracy')\n",
    "\n",
    "cross_val_plot <- ggplot(accuracies, aes(x = neighbors, y = mean)) +\n",
    "                  geom_point() +\n",
    "                  geom_line() +\n",
    "                  labs(x = 'Neighbors', y = 'Accuracy Estimate') +\n",
    "                  theme(text = element_text(size = 20))\n",
    "\n",
    "cross_val_plot"
   ]
  },
  {
   "cell_type": "markdown",
   "id": "640371fa-6954-4606-b2b0-acc219472ece",
   "metadata": {},
   "source": [
    "***Players Model***"
   ]
  },
  {
   "cell_type": "code",
   "execution_count": null,
   "id": "aba0cc3b-3c12-43aa-b24d-d1b14d3139a6",
   "metadata": {},
   "outputs": [],
   "source": [
    "set.seed(9999)\n",
    "tuned_spec <- nearest_neighbor(weight_func = \"rectangular\", neighbors = 4) |>\n",
    "       set_engine(\"kknn\") |>\n",
    "       set_mode(\"classification\")\n",
    "\n",
    "player_fit <- workflow() |>\n",
    "             add_recipe(player_recipe) |>\n",
    "             add_model(tuned_spec) |>\n",
    "            fit(data = player_train)\n",
    "player_fit"
   ]
  },
  {
   "cell_type": "markdown",
   "id": "2cc054ca-b402-4514-b871-6d473e4533b8",
   "metadata": {},
   "source": [
    "***Testing Players Model***"
   ]
  },
  {
   "cell_type": "code",
   "execution_count": null,
   "id": "7f83a71e-04fb-4f0b-85ff-9383a8a564a9",
   "metadata": {},
   "outputs": [],
   "source": [
    "player_predictions <- predict(player_fit, player_test) |>\n",
    "                        bind_cols(player_test)\n",
    "\n",
    "player_metrics <- player_predictions |> metrics(truth = subscribe, estimate = .pred_class)\n",
    "\n",
    "player_conf_mat <- player_predictions |>\n",
    "                        conf_mat(truth = subscribe, estimate = .pred_class) \n",
    "player_metrics\n",
    "player_conf_mat"
   ]
  },
  {
   "cell_type": "markdown",
   "id": "71afc9ec-040f-4269-bf27-4b491a85aa3d",
   "metadata": {},
   "source": [
    "### Notes \n",
    "\n",
    "I don't think that age and played_hours are good predicitors for subscription. There is a lot to be desired in the confusion matrix along with the accuracy of the possible K values for the neighbours, out of the 5 chosen, not one was above 60%. The amount of folds chosen was five, which is due to the small sample size of observations."
   ]
  },
  {
   "cell_type": "markdown",
   "id": "beb45195-f97e-41c9-a889-d6957e9cdbf0",
   "metadata": {},
   "source": [
    "## Discussion\n",
    "\n",
    "Our aim for this project was to asses whether the variables \"age\" and \"hours played\" could effectively predict whether or not an Minecraft player was subscribed to a Minecraft-related news letter. To achieve this, we created visualizations to asses trends between the predictor variables and the subscription status, as well as conducted a K nearest neighbours (KNN) regression analysis in order to determine the accuracy, precision, and recall of our model. After exploring this model's preformance, questions have been raised on the validity of Age and Hours Played as predictors for subscription status. \n",
    "\n",
    "#### KNN Results \n",
    "\n",
    "The output from our KNN workflow gave us a minimal misclassification value of 0.4069, which means that roughly 40.69% of the time, our test data was misclassified. More specifically, the overall accuracy of the model was 53.06%, the precision, which is the percent of subscription predictions that are actually correct, is 72.41% (true positives / (true positives + false positives)) = (21/(21+8)))"
   ]
  },
  {
   "cell_type": "code",
   "execution_count": null,
   "id": "7a61bff2-7572-40b4-839f-127435eb8aec",
   "metadata": {},
   "outputs": [],
   "source": []
  }
 ],
 "metadata": {
  "kernelspec": {
   "display_name": "R",
   "language": "R",
   "name": "ir"
  },
  "language_info": {
   "codemirror_mode": "r",
   "file_extension": ".r",
   "mimetype": "text/x-r-source",
   "name": "R",
   "pygments_lexer": "r",
   "version": "4.3.3"
  }
 },
 "nbformat": 4,
 "nbformat_minor": 5
}
